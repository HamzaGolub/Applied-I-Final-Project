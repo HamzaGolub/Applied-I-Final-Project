{
 "cells": [
  {
   "cell_type": "code",
   "execution_count": 246,
   "id": "1f1afe59-992d-4510-8ee5-f242ddacdefe",
   "metadata": {},
   "outputs": [],
   "source": [
    "import cvxpy as cp\n",
    "import numpy as np\n",
    "import matplotlib.pyplot as plt\n",
    "import seaborn as sns\n",
    "from sklearn.impute import SimpleImputer"
   ]
  },
  {
   "cell_type": "code",
   "execution_count": 180,
   "id": "279e6811-a129-4354-9c55-8d17bbd46ed1",
   "metadata": {},
   "outputs": [],
   "source": [
    "data_genre = np.loadtxt('item.txt', encoding='latin-1', delimiter='|', dtype=str)\n",
    "data_genre = data_genre[:, [1]+ list(range(5, 24))]"
   ]
  },
  {
   "cell_type": "code",
   "execution_count": 181,
   "id": "cd6c4515-c430-4258-907d-c8cf1d07cac0",
   "metadata": {},
   "outputs": [],
   "source": [
    "np.shape(data_genre)\n",
    "\n",
    "data_X_genre = np.zeros([np.shape(data_genre)[0], 2])\n",
    "for i in range(np.shape(data_genre)[0]):\n",
    "    indices_with_ones = np.where(data_genre[i] == '1')[0]\n",
    "    random_genre = np.random.choice(indices_with_ones)\n",
    "    data_X_genre[i] = [int(random_genre),int(i+1)]"
   ]
  },
  {
   "cell_type": "code",
   "execution_count": 182,
   "id": "1e21813d-17b7-4bd9-8d3c-800a5b129fd3",
   "metadata": {},
   "outputs": [
    {
     "name": "stdout",
     "output_type": "stream",
     "text": [
      "[[   1  267]\n",
      " [   1 1373]\n",
      " [   2  449]\n",
      " ...\n",
      " [  19 1455]\n",
      " [  19  922]\n",
      " [  19 1247]]\n"
     ]
    }
   ],
   "source": [
    "genres = np.loadtxt('genre.txt', encoding='latin-1', delimiter='|', dtype=str)\n",
    "\n",
    "\n",
    "data_X_genre=data_X_genre[data_X_genre[:, 0].argsort()].astype(int)\n",
    "print(data_X_genre)"
   ]
  },
  {
   "cell_type": "code",
   "execution_count": 183,
   "id": "9fa45be0-869b-49b4-9bae-949d290ce842",
   "metadata": {},
   "outputs": [
    {
     "name": "stdout",
     "output_type": "stream",
     "text": [
      "[[  1  55   5]\n",
      " [  1 203   4]\n",
      " [  1 183   5]\n",
      " ...\n",
      " [943 284   2]\n",
      " [943  62   3]\n",
      " [943 210   4]]\n"
     ]
    }
   ],
   "source": [
    "# [ User ID, Movie ID, Rating]\n",
    "data_movies = np.loadtxt('data.txt', encoding='latin-1', delimiter='\t', dtype=str)\n",
    "data_movies = data_movies[:, [0,1,2]].astype(int)\n",
    "data_movies = data_movies[data_movies[:, 0].argsort()].astype(int)\n",
    "\n",
    "print(data_movies)"
   ]
  },
  {
   "cell_type": "code",
   "execution_count": 416,
   "id": "cf4e3695-f20b-4da2-8496-d78a1c7e807e",
   "metadata": {},
   "outputs": [
    {
     "name": "stdout",
     "output_type": "stream",
     "text": [
      "(943, 1682)\n",
      "[[0. 0. 0. ... 0. 0. 0.]\n",
      " [0. 0. 0. ... 0. 0. 0.]\n",
      " [0. 0. 0. ... 0. 0. 0.]\n",
      " ...\n",
      " [0. 0. 0. ... 0. 0. 0.]\n",
      " [0. 0. 0. ... 0. 0. 0.]\n",
      " [0. 0. 0. ... 0. 0. 0.]]\n"
     ]
    }
   ],
   "source": [
    "data_people = np.loadtxt('u_user.txt', encoding='latin-1', delimiter='|', dtype=str)\n",
    "data_people = data_people[:, [0]+ [2]]\n",
    "\n",
    "# nx2 matrix where [Person ID; 0 for male and 1 for female]\n",
    "data_people[:, 1] = np.where(data_people[:, 1] == 'M', 0, 1)\n",
    "data_people = data_people.astype(int)\n",
    "\n",
    "X_matrix = np.zeros([np.shape(data_people)[0]+1, np.shape(data_genre)[0]+1])\n",
    "\n",
    "for i in range(np.shape(data_movies)[0]):\n",
    "    X_matrix[data_movies[i][0],data_movies[i][1]] = data_movies[i][2]\n",
    "\n",
    "for i in range(np.shape(data_X_genre)[0]):\n",
    "    X_matrix[0, data_X_genre[i][1]] = data_X_genre[i][0]\n",
    "\n",
    "sorted_indices = np.argsort(X_matrix[0])\n",
    "X_matrix = X_matrix[:, sorted_indices]\n",
    "\n",
    "\n",
    "data_people = np.vstack(([0,0],data_people))\n",
    "X_matrix = np.hstack((X_matrix,data_people))\n",
    "\n",
    "first_row = X_matrix[0, :]\n",
    "shuffled = X_matrix[1:,:]\n",
    "np.random.shuffle(shuffled) # also need to shuffle labels together\n",
    "\n",
    "X_matrix = np.vstack([first_row, shuffled])\n",
    "\n",
    "\n",
    "genre_labels = X_matrix[0][1:np.shape(data_genre)[0]+1].astype(int)\n",
    "\n",
    "X_matr = (X_matrix.copy())[1:,1:np.shape(data_genre)[0]+1]\n",
    "print(np.shape(X_matr))\n",
    "\n",
    "# Matrix imputation step\n",
    "# imp = SimpleImputer(missing_values=0, strategy=\"median\")\n",
    "# imp.fit(X_matr)\n",
    "# # X_matr = imp.transform(X_matr)\n",
    "\n",
    "train_X = X_matr[0:754,1:np.shape(data_genre)[0]+1]\n",
    "test_X = X_matr[755:,1:np.shape(data_genre)[0]+1]\n",
    "\n",
    "arr = np.zeros(1682)\n",
    "\n",
    "for i in range(np.shape(train_X)[0]):\n",
    "    for j in (np.nonzero(train_X[i])):\n",
    "        arr[j] += 1\n",
    "\n",
    "\n",
    "print(train_X)\n",
    "\n",
    "train_y = (X_matrix[1:755,np.shape(data_genre)[0]+2]).reshape(1,754)\n",
    "test_y = (X_matrix[756:,np.shape(data_genre)[0]+2]).reshape(1,188)"
   ]
  },
  {
   "cell_type": "code",
   "execution_count": 378,
   "id": "745d3264-57bd-433e-be78-76913e69805a",
   "metadata": {},
   "outputs": [
    {
     "name": "stdout",
     "output_type": "stream",
     "text": [
      "(754, 1681)\n",
      "(1, 754)\n",
      "(19,)\n",
      "(1682,)\n"
     ]
    }
   ],
   "source": [
    "print(np.shape(train_X))\n",
    "print(np.shape(train_y))\n",
    "print(np.shape(genres))\n",
    "print(np.shape(genre_labels))"
   ]
  },
  {
   "cell_type": "code",
   "execution_count": 379,
   "id": "bf2c712f-580f-4a79-adb4-eda718b5ea35",
   "metadata": {},
   "outputs": [],
   "source": [
    "grp_dict = {}\n",
    "grp_dict_indx = {}\n",
    "\n",
    "for i in range(np.shape(genres)[0]):\n",
    "    i += 1\n",
    "    grp_dict[i] = np.count_nonzero(genre_labels == i)\n",
    "    grp_dict_indx[i] = np.argwhere(genre_labels == i)"
   ]
  },
  {
   "cell_type": "code",
   "execution_count": 380,
   "id": "8904cd7c-4ca0-40fd-9325-b33480525c91",
   "metadata": {},
   "outputs": [],
   "source": [
    "def prox_grplasso(b,b_list,lmbda,t,n,k):\n",
    "    m = np.shape(train_X)[0]\n",
    "    grad_g = -1 * train_y @ train_X + (1/(1 + np.exp(-train_X @ b).flatten())) @ train_X\n",
    "   \n",
    "    # Compute b - t * grad g\n",
    "    b = b - t * np.transpose(grad_g)\n",
    "    \n",
    "    bst = np.zeros(n).reshape(-1,1)\n",
    "    start = 0\n",
    "    end = 0\n",
    "\n",
    "    norms = []\n",
    "    \n",
    "    for i in range(1,20):\n",
    "        if i == 1:\n",
    "            start = 0\n",
    "        else:\n",
    "            start += grp_dict[i-1]\n",
    "        end = start + grp_dict[i]\n",
    "        \n",
    "        norms.append(np.linalg.norm(b[start:end]))\n",
    "        \n",
    "        bst[start:end] = np.maximum(0,(1 - (np.sqrt(grp_dict[i])*t*lmbda/np.linalg.norm(b[start:end]))))*b[start:end]   \n",
    "    \n",
    "    Xb = train_X @ bst\n",
    "    \n",
    "    gb = -1*train_y @ Xb + np.sum(np.log(1 + np.exp(Xb)))\n",
    "    \n",
    "    grp_pnlty = 0\n",
    "    for i in range(1,20):\n",
    "        grp_pnlty += np.sqrt(grp_dict[i]) * norms[i-1]\n",
    "    \n",
    "    hb = lmbda * grp_pnlty\n",
    "    f = gb + hb\n",
    "\n",
    "    return [bst, f]"
   ]
  },
  {
   "cell_type": "code",
   "execution_count": 414,
   "id": "f0151684-edfc-4e3b-a156-f710042dcafe",
   "metadata": {},
   "outputs": [
    {
     "name": "stderr",
     "output_type": "stream",
     "text": [
      "/var/folders/m_/zcc406bs79n86qzh6km17_dm0000gn/T/ipykernel_65935/2100756376.py:27: RuntimeWarning: overflow encountered in exp\n",
      "  gb = -1*train_y @ Xb + np.sum(np.log(1 + np.exp(Xb)))\n"
     ]
    },
    {
     "data": {
      "image/png": "[encoded data removed]",
      "text/plain": [
       "<Figure size 640x480 with 1 Axes>"
      ]
     },
     "metadata": {},
     "output_type": "display_data"
    }
   ],
   "source": [
    "n = np.shape(train_X)[1]\n",
    "m = np.shape(train_X)[0]\n",
    "\n",
    "b = np.random.rand(np.shape(train_X)[1]).reshape(-1,1)\n",
    "b_list = [b]\n",
    "\n",
    "t = 10e-6\n",
    "\n",
    "lmbda = 30\n",
    "\n",
    "f_vals = []\n",
    "for i in range(6000):\n",
    "    [b,f] = prox_grplasso(b,b_list,lmbda,t,n,k=-1)\n",
    "    f_vals.append(f[0])\n",
    "\n",
    "plt.semilogy(np.arange(6000), f_vals)\n",
    "\n",
    "plt.xlabel('Step')\n",
    "plt.ylabel('$g^{(k)}+h^{(k)}$')\n",
    "plt.title('Logistic Group Lasso Convergence')\n",
    "plt.show()"
   ]
  },
  {
   "cell_type": "code",
   "execution_count": 421,
   "id": "4031f5c3-6f38-432f-bc7e-7e82f20e5034",
   "metadata": {},
   "outputs": [
    {
     "name": "stdout",
     "output_type": "stream",
     "text": [
      "Objective value: [458.6926284]\n",
      "Test Classification Error:  0.26595744680851063\n",
      "Most Important Movie Genres:\n",
      "Action\n",
      "Musical\n",
      "Sci-Fi\n",
      "War\n"
     ]
    }
   ],
   "source": [
    "print(\"Objective value:\", f_vals[5999])\n",
    "\n",
    "test_predict = test_X @ b\n",
    "classify = (np.sign(test_predict - 0.5) + 1)//2\n",
    "err = np.count_nonzero(classify.flatten() - test_y.flatten())/(np.shape(test_y)[1])\n",
    "\n",
    "print(\"Test Classification Error: \", err)\n",
    "\n",
    "select = np.nonzero(b)[0]\n",
    "grp_list = []\n",
    "\n",
    "print(\"Most Important Movie Genres:\")\n",
    "for j in range(np.shape(genres)[0]):\n",
    "    grps = [i for i in select if i in grp_dict_indx[j+1]]\n",
    "    if grps:\n",
    "        print(genres[j])"
   ]
  }
 ],
 "metadata": {
  "kernelspec": {
   "display_name": "Python 3 (ipykernel)",
   "language": "python",
   "name": "python3"
  },
  "language_info": {
   "codemirror_mode": {
    "name": "ipython",
    "version": 3
   },
   "file_extension": ".py",
   "mimetype": "text/x-python",
   "name": "python",
   "nbconvert_exporter": "python",
   "pygments_lexer": "ipython3",
   "version": "3.12.6"
  }
 },
 "nbformat": 4,
 "nbformat_minor": 5
}
